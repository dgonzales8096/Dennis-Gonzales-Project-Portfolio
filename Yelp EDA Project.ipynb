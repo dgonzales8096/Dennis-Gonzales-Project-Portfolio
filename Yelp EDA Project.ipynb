{
 "cells": [
  {
   "cell_type": "markdown",
   "metadata": {},
   "source": [
    "# Yelp Dataset Exploratory Data Analysis: Project Overview"
   ]
  },
  {
   "cell_type": "markdown",
   "metadata": {},
   "source": [
    "- Explore Yelp business dataset and manipulate data with NumPy and Pandas\n",
    "- Identify and explore features \n",
    "- Add features as needed\n",
    "- Identify outliers\n",
    "- Map out businesses to better understand business location and Yelp reviews"
   ]
  },
  {
   "cell_type": "code",
   "execution_count": 1,
   "metadata": {},
   "outputs": [],
   "source": [
    "import json\n",
    "import pandas as pd\n",
    "import numpy as np\n",
    "import matplotlib.pyplot as plt\n",
    "import seaborn as sns\n",
    "%matplotlib inline\n"
   ]
  },
  {
   "cell_type": "markdown",
   "metadata": {},
   "source": [
    "### Import and preview data set"
   ]
  },
  {
   "cell_type": "code",
   "execution_count": 2,
   "metadata": {},
   "outputs": [],
   "source": [
    "file = 'yelp_academic_dataset_business.json'\n",
    "data = pd.read_json(file, lines=True)"
   ]
  },
  {
   "cell_type": "code",
   "execution_count": 3,
   "metadata": {},
   "outputs": [],
   "source": [
    "df = pd.DataFrame(data)"
   ]
  },
  {
   "cell_type": "code",
   "execution_count": 36,
   "metadata": {},
   "outputs": [],
   "source": [
    "df1 = pd.DataFrame(data) # df1 created for reference"
   ]
  },
  {
   "cell_type": "code",
   "execution_count": 4,
   "metadata": {},
   "outputs": [
    {
     "data": {
      "text/html": [
       "<div>\n",
       "<style scoped>\n",
       "    .dataframe tbody tr th:only-of-type {\n",
       "        vertical-align: middle;\n",
       "    }\n",
       "\n",
       "    .dataframe tbody tr th {\n",
       "        vertical-align: top;\n",
       "    }\n",
       "\n",
       "    .dataframe thead th {\n",
       "        text-align: right;\n",
       "    }\n",
       "</style>\n",
       "<table border=\"1\" class=\"dataframe\">\n",
       "  <thead>\n",
       "    <tr style=\"text-align: right;\">\n",
       "      <th></th>\n",
       "      <th>business_id</th>\n",
       "      <th>name</th>\n",
       "      <th>address</th>\n",
       "      <th>city</th>\n",
       "      <th>state</th>\n",
       "      <th>postal_code</th>\n",
       "      <th>latitude</th>\n",
       "      <th>longitude</th>\n",
       "      <th>stars</th>\n",
       "      <th>review_count</th>\n",
       "      <th>is_open</th>\n",
       "      <th>attributes</th>\n",
       "      <th>categories</th>\n",
       "      <th>hours</th>\n",
       "    </tr>\n",
       "  </thead>\n",
       "  <tbody>\n",
       "    <tr>\n",
       "      <th>0</th>\n",
       "      <td>6iYb2HFDywm3zjuRg0shjw</td>\n",
       "      <td>Oskar Blues Taproom</td>\n",
       "      <td>921 Pearl St</td>\n",
       "      <td>Boulder</td>\n",
       "      <td>CO</td>\n",
       "      <td>80302</td>\n",
       "      <td>40.017544</td>\n",
       "      <td>-105.283348</td>\n",
       "      <td>4.0</td>\n",
       "      <td>86</td>\n",
       "      <td>1</td>\n",
       "      <td>{'RestaurantsTableService': 'True', 'WiFi': 'u...</td>\n",
       "      <td>Gastropubs, Food, Beer Gardens, Restaurants, B...</td>\n",
       "      <td>{'Monday': '11:0-23:0', 'Tuesday': '11:0-23:0'...</td>\n",
       "    </tr>\n",
       "    <tr>\n",
       "      <th>1</th>\n",
       "      <td>tCbdrRPZA0oiIYSmHG3J0w</td>\n",
       "      <td>Flying Elephants at PDX</td>\n",
       "      <td>7000 NE Airport Way</td>\n",
       "      <td>Portland</td>\n",
       "      <td>OR</td>\n",
       "      <td>97218</td>\n",
       "      <td>45.588906</td>\n",
       "      <td>-122.593331</td>\n",
       "      <td>4.0</td>\n",
       "      <td>126</td>\n",
       "      <td>1</td>\n",
       "      <td>{'RestaurantsTakeOut': 'True', 'RestaurantsAtt...</td>\n",
       "      <td>Salad, Soup, Sandwiches, Delis, Restaurants, C...</td>\n",
       "      <td>{'Monday': '5:0-18:0', 'Tuesday': '5:0-17:0', ...</td>\n",
       "    </tr>\n",
       "    <tr>\n",
       "      <th>2</th>\n",
       "      <td>bvN78flM8NLprQ1a1y5dRg</td>\n",
       "      <td>The Reclaimory</td>\n",
       "      <td>4720 Hawthorne Ave</td>\n",
       "      <td>Portland</td>\n",
       "      <td>OR</td>\n",
       "      <td>97214</td>\n",
       "      <td>45.511907</td>\n",
       "      <td>-122.613693</td>\n",
       "      <td>4.5</td>\n",
       "      <td>13</td>\n",
       "      <td>1</td>\n",
       "      <td>{'BusinessAcceptsCreditCards': 'True', 'Restau...</td>\n",
       "      <td>Antiques, Fashion, Used, Vintage &amp; Consignment...</td>\n",
       "      <td>{'Thursday': '11:0-18:0', 'Friday': '11:0-18:0...</td>\n",
       "    </tr>\n",
       "    <tr>\n",
       "      <th>3</th>\n",
       "      <td>oaepsyvc0J17qwi8cfrOWg</td>\n",
       "      <td>Great Clips</td>\n",
       "      <td>2566 Enterprise Rd</td>\n",
       "      <td>Orange City</td>\n",
       "      <td>FL</td>\n",
       "      <td>32763</td>\n",
       "      <td>28.914482</td>\n",
       "      <td>-81.295979</td>\n",
       "      <td>3.0</td>\n",
       "      <td>8</td>\n",
       "      <td>1</td>\n",
       "      <td>{'RestaurantsPriceRange2': '1', 'BusinessAccep...</td>\n",
       "      <td>Beauty &amp; Spas, Hair Salons</td>\n",
       "      <td>None</td>\n",
       "    </tr>\n",
       "    <tr>\n",
       "      <th>4</th>\n",
       "      <td>PE9uqAjdw0E4-8mjGl3wVA</td>\n",
       "      <td>Crossfit Terminus</td>\n",
       "      <td>1046 Memorial Dr SE</td>\n",
       "      <td>Atlanta</td>\n",
       "      <td>GA</td>\n",
       "      <td>30316</td>\n",
       "      <td>33.747027</td>\n",
       "      <td>-84.353424</td>\n",
       "      <td>4.0</td>\n",
       "      <td>14</td>\n",
       "      <td>1</td>\n",
       "      <td>{'GoodForKids': 'False', 'BusinessParking': '{...</td>\n",
       "      <td>Gyms, Active Life, Interval Training Gyms, Fit...</td>\n",
       "      <td>{'Monday': '16:0-19:0', 'Tuesday': '16:0-19:0'...</td>\n",
       "    </tr>\n",
       "  </tbody>\n",
       "</table>\n",
       "</div>"
      ],
      "text/plain": [
       "              business_id                     name              address  \\\n",
       "0  6iYb2HFDywm3zjuRg0shjw      Oskar Blues Taproom         921 Pearl St   \n",
       "1  tCbdrRPZA0oiIYSmHG3J0w  Flying Elephants at PDX  7000 NE Airport Way   \n",
       "2  bvN78flM8NLprQ1a1y5dRg           The Reclaimory   4720 Hawthorne Ave   \n",
       "3  oaepsyvc0J17qwi8cfrOWg              Great Clips   2566 Enterprise Rd   \n",
       "4  PE9uqAjdw0E4-8mjGl3wVA        Crossfit Terminus  1046 Memorial Dr SE   \n",
       "\n",
       "          city state postal_code   latitude   longitude  stars  review_count  \\\n",
       "0      Boulder    CO       80302  40.017544 -105.283348    4.0            86   \n",
       "1     Portland    OR       97218  45.588906 -122.593331    4.0           126   \n",
       "2     Portland    OR       97214  45.511907 -122.613693    4.5            13   \n",
       "3  Orange City    FL       32763  28.914482  -81.295979    3.0             8   \n",
       "4      Atlanta    GA       30316  33.747027  -84.353424    4.0            14   \n",
       "\n",
       "   is_open                                         attributes  \\\n",
       "0        1  {'RestaurantsTableService': 'True', 'WiFi': 'u...   \n",
       "1        1  {'RestaurantsTakeOut': 'True', 'RestaurantsAtt...   \n",
       "2        1  {'BusinessAcceptsCreditCards': 'True', 'Restau...   \n",
       "3        1  {'RestaurantsPriceRange2': '1', 'BusinessAccep...   \n",
       "4        1  {'GoodForKids': 'False', 'BusinessParking': '{...   \n",
       "\n",
       "                                          categories  \\\n",
       "0  Gastropubs, Food, Beer Gardens, Restaurants, B...   \n",
       "1  Salad, Soup, Sandwiches, Delis, Restaurants, C...   \n",
       "2  Antiques, Fashion, Used, Vintage & Consignment...   \n",
       "3                         Beauty & Spas, Hair Salons   \n",
       "4  Gyms, Active Life, Interval Training Gyms, Fit...   \n",
       "\n",
       "                                               hours  \n",
       "0  {'Monday': '11:0-23:0', 'Tuesday': '11:0-23:0'...  \n",
       "1  {'Monday': '5:0-18:0', 'Tuesday': '5:0-17:0', ...  \n",
       "2  {'Thursday': '11:0-18:0', 'Friday': '11:0-18:0...  \n",
       "3                                               None  \n",
       "4  {'Monday': '16:0-19:0', 'Tuesday': '16:0-19:0'...  "
      ]
     },
     "execution_count": 4,
     "metadata": {},
     "output_type": "execute_result"
    }
   ],
   "source": [
    "df.head()"
   ]
  },
  {
   "cell_type": "code",
   "execution_count": 5,
   "metadata": {},
   "outputs": [
    {
     "name": "stdout",
     "output_type": "stream",
     "text": [
      "<class 'pandas.core.frame.DataFrame'>\n",
      "RangeIndex: 160585 entries, 0 to 160584\n",
      "Data columns (total 14 columns):\n",
      " #   Column        Non-Null Count   Dtype  \n",
      "---  ------        --------------   -----  \n",
      " 0   business_id   160585 non-null  object \n",
      " 1   name          160585 non-null  object \n",
      " 2   address       160585 non-null  object \n",
      " 3   city          160585 non-null  object \n",
      " 4   state         160585 non-null  object \n",
      " 5   postal_code   160585 non-null  object \n",
      " 6   latitude      160585 non-null  float64\n",
      " 7   longitude     160585 non-null  float64\n",
      " 8   stars         160585 non-null  float64\n",
      " 9   review_count  160585 non-null  int64  \n",
      " 10  is_open       160585 non-null  int64  \n",
      " 11  attributes    145593 non-null  object \n",
      " 12  categories    160470 non-null  object \n",
      " 13  hours         133244 non-null  object \n",
      "dtypes: float64(3), int64(2), object(9)\n",
      "memory usage: 17.2+ MB\n"
     ]
    }
   ],
   "source": [
    "df.info()"
   ]
  },
  {
   "cell_type": "markdown",
   "metadata": {},
   "source": [
    "- Appears to be 160,585 records, 5 numeric features and 9 categorical features\n",
    "- **'attributes'** and **'hours'** contain null values"
   ]
  },
  {
   "cell_type": "markdown",
   "metadata": {},
   "source": [
    "### Feature Assumptions"
   ]
  },
  {
   "cell_type": "markdown",
   "metadata": {},
   "source": [
    "- **'business_id'** - Identifying key <br>\n",
    "- **'name'** - Name of business <br>\n",
    "- **'address'** - Address of business <br>\n",
    "- **'city'** - City residence of business <br>\n",
    "- **'state'** - State residence of business <br>\n",
    "- **'postal_code'** - Postal code of business <br>\n",
    "- **'latitude'** and 'longitude' - The latitutude and longitude of the business <br>\n",
    "- **'stars'** - Yelp review rating <br>\n",
    "- **'review_count'** - Number of reviews of the business <br>\n",
    "- **'is_open'** - Indicates whether or not a business is still operating <br>\n",
    "- **'attributes'** - Listing of business amenities <br>\n",
    "- **'categories'** - Categories of a business <br>\n",
    "- **'hours'** - Hours of operation of a business"
   ]
  },
  {
   "cell_type": "markdown",
   "metadata": {},
   "source": [
    "#### Define numeric and categorical features"
   ]
  },
  {
   "cell_type": "code",
   "execution_count": 6,
   "metadata": {},
   "outputs": [],
   "source": [
    "def find_num_cols(data):\n",
    "    \"\"\"returns list of numeric features\"\"\"\n",
    "    cols = data.select_dtypes(include=[np.number])\n",
    "    list_num = [print(x) for x in cols.columns]\n",
    "    return list_num"
   ]
  },
  {
   "cell_type": "code",
   "execution_count": 7,
   "metadata": {},
   "outputs": [],
   "source": [
    "def find_cat_cols(data):\n",
    "    \"\"\"returns list of categorical features\"\"\"\n",
    "    cols = data.select_dtypes(exclude=[np.number])\n",
    "    list_cat = [print(x) for x in cols.columns]\n",
    "    return list_cat"
   ]
  },
  {
   "cell_type": "code",
   "execution_count": 8,
   "metadata": {},
   "outputs": [
    {
     "name": "stdout",
     "output_type": "stream",
     "text": [
      "latitude\n",
      "longitude\n",
      "stars\n",
      "review_count\n",
      "is_open\n"
     ]
    },
    {
     "data": {
      "text/plain": [
       "[None, None, None, None, None]"
      ]
     },
     "execution_count": 8,
     "metadata": {},
     "output_type": "execute_result"
    }
   ],
   "source": [
    " find_num_cols(df)"
   ]
  },
  {
   "cell_type": "code",
   "execution_count": 9,
   "metadata": {},
   "outputs": [
    {
     "name": "stdout",
     "output_type": "stream",
     "text": [
      "business_id\n",
      "name\n",
      "address\n",
      "city\n",
      "state\n",
      "postal_code\n",
      "attributes\n",
      "categories\n",
      "hours\n"
     ]
    },
    {
     "data": {
      "text/plain": [
       "[None, None, None, None, None, None, None, None, None]"
      ]
     },
     "execution_count": 9,
     "metadata": {},
     "output_type": "execute_result"
    }
   ],
   "source": [
    "find_cat_cols(df)"
   ]
  },
  {
   "cell_type": "markdown",
   "metadata": {},
   "source": [
    "### Add Regional column to the DataFrame\n",
    "- States categorized by regions defined by US Census Bureau"
   ]
  },
  {
   "cell_type": "code",
   "execution_count": 10,
   "metadata": {},
   "outputs": [],
   "source": [
    "def states_to_region(df, col, new):\n",
    "    \"\"\"create region column based on states\"\"\"\n",
    "    NE = ['CT', 'ME', 'MA', 'NH', 'RI', 'VT', 'NJ', 'NY', 'PA']\n",
    "    MW = ['IL', 'IN', 'MI', 'OH', 'WI', 'IA', 'KS', 'MN', 'MO', 'NE', 'ND', 'SD']\n",
    "    S = ['DE', 'FL', 'GA', 'NC', 'SC', 'DC', 'WV', 'AL', 'KY', 'MS', 'TN', 'AR', 'LA', 'OK', 'TX', 'MD', 'VA']\n",
    "    W = ['AZ', 'CO', 'ID', 'MO', 'NV', 'NM', 'UT', 'WY', 'AK', 'CA', 'HI', 'OR', 'WA']\n",
    "    C = ['BC']\n",
    "    \n",
    "    reg = []\n",
    "    for x in df[col]:\n",
    "        if x in NE:\n",
    "            reg.append('Northeast')\n",
    "        elif x in MW:\n",
    "            reg.append('Midwest')\n",
    "        elif x in S:\n",
    "            reg.append('South')\n",
    "        elif x in W:\n",
    "            reg.append('West')\n",
    "        elif x in C:\n",
    "            reg.append('Canada')\n",
    "        else:\n",
    "            reg.append('error')\n",
    "            \n",
    "    df[new] = reg\n",
    "    \n",
    "    return df[new]"
   ]
  },
  {
   "cell_type": "code",
   "execution_count": 11,
   "metadata": {},
   "outputs": [
    {
     "data": {
      "text/plain": [
       "0     West\n",
       "1     West\n",
       "2     West\n",
       "3    South\n",
       "4    South\n",
       "Name: region, dtype: object"
      ]
     },
     "execution_count": 11,
     "metadata": {},
     "output_type": "execute_result"
    }
   ],
   "source": [
    "states_to_region(df, 'state', 'region').head()"
   ]
  },
  {
   "cell_type": "code",
   "execution_count": 12,
   "metadata": {},
   "outputs": [
    {
     "data": {
      "text/plain": [
       "South        64490\n",
       "Northeast    36019\n",
       "West         31512\n",
       "Canada       17298\n",
       "Midwest      11263\n",
       "error            3\n",
       "Name: region, dtype: int64"
      ]
     },
     "execution_count": 12,
     "metadata": {},
     "output_type": "execute_result"
    }
   ],
   "source": [
    "df['region'].value_counts()"
   ]
  },
  {
   "cell_type": "code",
   "execution_count": 13,
   "metadata": {},
   "outputs": [
    {
     "data": {
      "text/plain": [
       "<AxesSubplot:>"
      ]
     },
     "execution_count": 13,
     "metadata": {},
     "output_type": "execute_result"
    },
    {
     "data": {
      "image/png": "[encoded data removed]",
      "text/plain": [
       "<Figure size 432x288 with 1 Axes>"
      ]
     },
     "metadata": {
      "needs_background": "light"
     },
     "output_type": "display_data"
    }
   ],
   "source": [
    "df['region'].value_counts().plot(kind='bar')"
   ]
  },
  {
   "cell_type": "markdown",
   "metadata": {},
   "source": [
    "- 'South' region clearly has the most reviews, but also has the largest region.\n",
    "- 'Northeast', which has the smallest region, is the second most reviewed region."
   ]
  },
  {
   "cell_type": "code",
   "execution_count": 14,
   "metadata": {},
   "outputs": [
    {
     "data": {
      "text/plain": [
       "52167     error\n",
       "62775     error\n",
       "129241    error\n",
       "Name: region, dtype: object"
      ]
     },
     "execution_count": 14,
     "metadata": {},
     "output_type": "execute_result"
    }
   ],
   "source": [
    "# check 'errors'\n",
    "df['region'][df['region'] == 'error']"
   ]
  },
  {
   "cell_type": "markdown",
   "metadata": {},
   "source": [
    "#### Describe numeric and categorical features"
   ]
  },
  {
   "cell_type": "code",
   "execution_count": 15,
   "metadata": {},
   "outputs": [
    {
     "data": {
      "text/html": [
       "<div>\n",
       "<style scoped>\n",
       "    .dataframe tbody tr th:only-of-type {\n",
       "        vertical-align: middle;\n",
       "    }\n",
       "\n",
       "    .dataframe tbody tr th {\n",
       "        vertical-align: top;\n",
       "    }\n",
       "\n",
       "    .dataframe thead th {\n",
       "        text-align: right;\n",
       "    }\n",
       "</style>\n",
       "<table border=\"1\" class=\"dataframe\">\n",
       "  <thead>\n",
       "    <tr style=\"text-align: right;\">\n",
       "      <th></th>\n",
       "      <th>latitude</th>\n",
       "      <th>longitude</th>\n",
       "      <th>stars</th>\n",
       "      <th>review_count</th>\n",
       "      <th>is_open</th>\n",
       "    </tr>\n",
       "  </thead>\n",
       "  <tbody>\n",
       "    <tr>\n",
       "      <th>count</th>\n",
       "      <td>160585.000000</td>\n",
       "      <td>160585.000000</td>\n",
       "      <td>160585.000000</td>\n",
       "      <td>160585.000000</td>\n",
       "      <td>160585.000000</td>\n",
       "    </tr>\n",
       "    <tr>\n",
       "      <th>mean</th>\n",
       "      <td>38.759794</td>\n",
       "      <td>-94.266212</td>\n",
       "      <td>3.656954</td>\n",
       "      <td>51.964548</td>\n",
       "      <td>0.767494</td>\n",
       "    </tr>\n",
       "    <tr>\n",
       "      <th>std</th>\n",
       "      <td>7.138042</td>\n",
       "      <td>19.975446</td>\n",
       "      <td>0.943604</td>\n",
       "      <td>130.030448</td>\n",
       "      <td>0.422431</td>\n",
       "    </tr>\n",
       "    <tr>\n",
       "      <th>min</th>\n",
       "      <td>27.998972</td>\n",
       "      <td>-123.393929</td>\n",
       "      <td>1.000000</td>\n",
       "      <td>5.000000</td>\n",
       "      <td>0.000000</td>\n",
       "    </tr>\n",
       "    <tr>\n",
       "      <th>25%</th>\n",
       "      <td>30.355886</td>\n",
       "      <td>-122.589583</td>\n",
       "      <td>3.000000</td>\n",
       "      <td>8.000000</td>\n",
       "      <td>1.000000</td>\n",
       "    </tr>\n",
       "    <tr>\n",
       "      <th>50%</th>\n",
       "      <td>42.177366</td>\n",
       "      <td>-84.383281</td>\n",
       "      <td>4.000000</td>\n",
       "      <td>17.000000</td>\n",
       "      <td>1.000000</td>\n",
       "    </tr>\n",
       "    <tr>\n",
       "      <th>75%</th>\n",
       "      <td>45.458531</td>\n",
       "      <td>-81.288501</td>\n",
       "      <td>4.500000</td>\n",
       "      <td>44.000000</td>\n",
       "      <td>1.000000</td>\n",
       "    </tr>\n",
       "    <tr>\n",
       "      <th>max</th>\n",
       "      <td>49.490000</td>\n",
       "      <td>71.113271</td>\n",
       "      <td>5.000000</td>\n",
       "      <td>9185.000000</td>\n",
       "      <td>1.000000</td>\n",
       "    </tr>\n",
       "  </tbody>\n",
       "</table>\n",
       "</div>"
      ],
      "text/plain": [
       "            latitude      longitude          stars   review_count  \\\n",
       "count  160585.000000  160585.000000  160585.000000  160585.000000   \n",
       "mean       38.759794     -94.266212       3.656954      51.964548   \n",
       "std         7.138042      19.975446       0.943604     130.030448   \n",
       "min        27.998972    -123.393929       1.000000       5.000000   \n",
       "25%        30.355886    -122.589583       3.000000       8.000000   \n",
       "50%        42.177366     -84.383281       4.000000      17.000000   \n",
       "75%        45.458531     -81.288501       4.500000      44.000000   \n",
       "max        49.490000      71.113271       5.000000    9185.000000   \n",
       "\n",
       "             is_open  \n",
       "count  160585.000000  \n",
       "mean        0.767494  \n",
       "std         0.422431  \n",
       "min         0.000000  \n",
       "25%         1.000000  \n",
       "50%         1.000000  \n",
       "75%         1.000000  \n",
       "max         1.000000  "
      ]
     },
     "execution_count": 15,
     "metadata": {},
     "output_type": "execute_result"
    }
   ],
   "source": [
    "df.describe(include = [np.number]) # describe numeric features"
   ]
  },
  {
   "cell_type": "code",
   "execution_count": 16,
   "metadata": {},
   "outputs": [],
   "source": [
    "# df.describe(include = ['O']) # describe categorical features"
   ]
  },
  {
   "cell_type": "markdown",
   "metadata": {},
   "source": [
    "### Remove features not needed for model\n",
    "- To simplify this model, **'attributes'** and **'hours'** will also be removed for now.\n",
    "- **'name'**, **'business_id'**, **'is_open'**, and **'postal_code'** will be removed for lack of causation."
   ]
  },
  {
   "cell_type": "code",
   "execution_count": 17,
   "metadata": {},
   "outputs": [],
   "source": [
    "df = df.drop(columns=['business_id', 'name', 'address', 'postal_code', 'attributes', 'hours'])"
   ]
  },
  {
   "cell_type": "code",
   "execution_count": 18,
   "metadata": {},
   "outputs": [
    {
     "data": {
      "text/html": [
       "<div>\n",
       "<style scoped>\n",
       "    .dataframe tbody tr th:only-of-type {\n",
       "        vertical-align: middle;\n",
       "    }\n",
       "\n",
       "    .dataframe tbody tr th {\n",
       "        vertical-align: top;\n",
       "    }\n",
       "\n",
       "    .dataframe thead th {\n",
       "        text-align: right;\n",
       "    }\n",
       "</style>\n",
       "<table border=\"1\" class=\"dataframe\">\n",
       "  <thead>\n",
       "    <tr style=\"text-align: right;\">\n",
       "      <th></th>\n",
       "      <th>city</th>\n",
       "      <th>state</th>\n",
       "      <th>latitude</th>\n",
       "      <th>longitude</th>\n",
       "      <th>stars</th>\n",
       "      <th>review_count</th>\n",
       "      <th>is_open</th>\n",
       "      <th>categories</th>\n",
       "      <th>region</th>\n",
       "    </tr>\n",
       "  </thead>\n",
       "  <tbody>\n",
       "    <tr>\n",
       "      <th>0</th>\n",
       "      <td>Boulder</td>\n",
       "      <td>CO</td>\n",
       "      <td>40.017544</td>\n",
       "      <td>-105.283348</td>\n",
       "      <td>4.0</td>\n",
       "      <td>86</td>\n",
       "      <td>1</td>\n",
       "      <td>Gastropubs, Food, Beer Gardens, Restaurants, B...</td>\n",
       "      <td>West</td>\n",
       "    </tr>\n",
       "    <tr>\n",
       "      <th>1</th>\n",
       "      <td>Portland</td>\n",
       "      <td>OR</td>\n",
       "      <td>45.588906</td>\n",
       "      <td>-122.593331</td>\n",
       "      <td>4.0</td>\n",
       "      <td>126</td>\n",
       "      <td>1</td>\n",
       "      <td>Salad, Soup, Sandwiches, Delis, Restaurants, C...</td>\n",
       "      <td>West</td>\n",
       "    </tr>\n",
       "    <tr>\n",
       "      <th>2</th>\n",
       "      <td>Portland</td>\n",
       "      <td>OR</td>\n",
       "      <td>45.511907</td>\n",
       "      <td>-122.613693</td>\n",
       "      <td>4.5</td>\n",
       "      <td>13</td>\n",
       "      <td>1</td>\n",
       "      <td>Antiques, Fashion, Used, Vintage &amp; Consignment...</td>\n",
       "      <td>West</td>\n",
       "    </tr>\n",
       "    <tr>\n",
       "      <th>3</th>\n",
       "      <td>Orange City</td>\n",
       "      <td>FL</td>\n",
       "      <td>28.914482</td>\n",
       "      <td>-81.295979</td>\n",
       "      <td>3.0</td>\n",
       "      <td>8</td>\n",
       "      <td>1</td>\n",
       "      <td>Beauty &amp; Spas, Hair Salons</td>\n",
       "      <td>South</td>\n",
       "    </tr>\n",
       "    <tr>\n",
       "      <th>4</th>\n",
       "      <td>Atlanta</td>\n",
       "      <td>GA</td>\n",
       "      <td>33.747027</td>\n",
       "      <td>-84.353424</td>\n",
       "      <td>4.0</td>\n",
       "      <td>14</td>\n",
       "      <td>1</td>\n",
       "      <td>Gyms, Active Life, Interval Training Gyms, Fit...</td>\n",
       "      <td>South</td>\n",
       "    </tr>\n",
       "  </tbody>\n",
       "</table>\n",
       "</div>"
      ],
      "text/plain": [
       "          city state   latitude   longitude  stars  review_count  is_open  \\\n",
       "0      Boulder    CO  40.017544 -105.283348    4.0            86        1   \n",
       "1     Portland    OR  45.588906 -122.593331    4.0           126        1   \n",
       "2     Portland    OR  45.511907 -122.613693    4.5            13        1   \n",
       "3  Orange City    FL  28.914482  -81.295979    3.0             8        1   \n",
       "4      Atlanta    GA  33.747027  -84.353424    4.0            14        1   \n",
       "\n",
       "                                          categories region  \n",
       "0  Gastropubs, Food, Beer Gardens, Restaurants, B...   West  \n",
       "1  Salad, Soup, Sandwiches, Delis, Restaurants, C...   West  \n",
       "2  Antiques, Fashion, Used, Vintage & Consignment...   West  \n",
       "3                         Beauty & Spas, Hair Salons  South  \n",
       "4  Gyms, Active Life, Interval Training Gyms, Fit...  South  "
      ]
     },
     "execution_count": 18,
     "metadata": {},
     "output_type": "execute_result"
    }
   ],
   "source": [
    "df.head()"
   ]
  },
  {
   "cell_type": "markdown",
   "metadata": {},
   "source": [
    "- At this point, focus will shift to 'review_count' as measure of popularity (whether good or bad) and customer engagement"
   ]
  },
  {
   "cell_type": "markdown",
   "metadata": {},
   "source": [
    "### Remove records with 'review_count' *less than* a value of 30"
   ]
  },
  {
   "cell_type": "markdown",
   "metadata": {},
   "source": [
    "- Businesses with less than 30 reviews are dropped."
   ]
  },
  {
   "cell_type": "code",
   "execution_count": 19,
   "metadata": {},
   "outputs": [],
   "source": [
    "def drop_under_30_count(df, col):\n",
    "    \"\"\"drop records that have a frequncy less than 30 in given column/dataframe\"\"\"\n",
    "    drop_rec = df[df[col] < 30].index\n",
    "    df.drop(drop_rec, inplace=True)"
   ]
  },
  {
   "cell_type": "code",
   "execution_count": 20,
   "metadata": {},
   "outputs": [],
   "source": [
    "drop_under_30_count(df, 'review_count')"
   ]
  },
  {
   "cell_type": "code",
   "execution_count": 21,
   "metadata": {},
   "outputs": [
    {
     "name": "stdout",
     "output_type": "stream",
     "text": [
      "<class 'pandas.core.frame.DataFrame'>\n",
      "Int64Index: 55055 entries, 0 to 160584\n",
      "Data columns (total 9 columns):\n",
      " #   Column        Non-Null Count  Dtype  \n",
      "---  ------        --------------  -----  \n",
      " 0   city          55055 non-null  object \n",
      " 1   state         55055 non-null  object \n",
      " 2   latitude      55055 non-null  float64\n",
      " 3   longitude     55055 non-null  float64\n",
      " 4   stars         55055 non-null  float64\n",
      " 5   review_count  55055 non-null  int64  \n",
      " 6   is_open       55055 non-null  int64  \n",
      " 7   categories    55053 non-null  object \n",
      " 8   region        55055 non-null  object \n",
      "dtypes: float64(3), int64(2), object(4)\n",
      "memory usage: 4.2+ MB\n"
     ]
    }
   ],
   "source": [
    "df.info()"
   ]
  },
  {
   "cell_type": "markdown",
   "metadata": {},
   "source": [
    "- Note that record entries are now 55,055 down from 160584"
   ]
  },
  {
   "cell_type": "markdown",
   "metadata": {},
   "source": [
    "### Identify potential outliers"
   ]
  },
  {
   "cell_type": "markdown",
   "metadata": {},
   "source": [
    "##### Identify high and low record frequency or value counts"
   ]
  },
  {
   "cell_type": "code",
   "execution_count": 22,
   "metadata": {},
   "outputs": [],
   "source": [
    "def column_min_max(df, col):\n",
    "    \"\"\"Identify max, min, average, median of unique records and frequency\"\"\"\n",
    "    u_max = df[col].unique().max()\n",
    "    u_min = df[col].unique().min()\n",
    "    u_std = df[col].unique().std()\n",
    "    f_max = df[col].value_counts().max()\n",
    "    f_min = df[col].value_counts().min()\n",
    "    f_std = df[col].value_counts().std()\n",
    "    mm = f'Unique record max: {u_max}\\nUnique record min: {u_min}\\nUnique record std: {u_std}\\nFrequency max: {f_max}\\nFrequency min: {f_min}\\nFrequency std: {f_std}'\n",
    "    \n",
    "    return print(mm)\n",
    "\n",
    "    "
   ]
  },
  {
   "cell_type": "code",
   "execution_count": 23,
   "metadata": {},
   "outputs": [
    {
     "name": "stdout",
     "output_type": "stream",
     "text": [
      "Unique record max: 9185\n",
      "Unique record min: 30\n",
      "Unique record std: 791.030988544761\n",
      "Frequency max: 1394\n",
      "Frequency min: 1\n",
      "Frequency std: 138.19539899898734\n"
     ]
    }
   ],
   "source": [
    "column_min_max(df, 'review_count')"
   ]
  },
  {
   "cell_type": "code",
   "execution_count": 24,
   "metadata": {},
   "outputs": [],
   "source": [
    "def plot_outs(df, col):\n",
    "    \"\"\"plot to identify outliers\"\"\"\n",
    "    plt.figure(figsize = (6, 8))\n",
    "    x = df[col].unique()\n",
    "    y = df[col].value_counts()\n",
    "    plt.scatter(x, y)\n",
    "    plt.xlabel(xlabel=(col), fontsize=('large'))\n",
    "    plt.ylabel(ylabel=('Frequency'), fontsize=('large'))\n",
    "    plt.show()"
   ]
  },
  {
   "cell_type": "code",
   "execution_count": 25,
   "metadata": {},
   "outputs": [
    {
     "data": {
      "image/png": "[encoded data removed]",
      "text/plain": [
       "<Figure size 432x576 with 1 Axes>"
      ]
     },
     "metadata": {
      "needs_background": "light"
     },
     "output_type": "display_data"
    }
   ],
   "source": [
    "plot_outs(df, 'review_count')"
   ]
  },
  {
   "cell_type": "markdown",
   "metadata": {},
   "source": [
    "- Distribution gathers mostly in the lower review counts with a few businesses with high review counts"
   ]
  },
  {
   "cell_type": "markdown",
   "metadata": {},
   "source": [
    "##### Identify top and bottom *unique* review count percentiles"
   ]
  },
  {
   "cell_type": "code",
   "execution_count": 26,
   "metadata": {},
   "outputs": [],
   "source": [
    "top_percentile = np.percentile(df['review_count'].unique(), 99) # 99th percentile"
   ]
  },
  {
   "cell_type": "code",
   "execution_count": 27,
   "metadata": {},
   "outputs": [
    {
     "data": {
      "text/plain": [
       "3907.850000000003"
      ]
     },
     "execution_count": 27,
     "metadata": {},
     "output_type": "execute_result"
    }
   ],
   "source": [
    "top_percentile"
   ]
  },
  {
   "cell_type": "code",
   "execution_count": 28,
   "metadata": {},
   "outputs": [],
   "source": [
    "top = df[df.review_count > top_percentile]"
   ]
  },
  {
   "cell_type": "code",
   "execution_count": 29,
   "metadata": {},
   "outputs": [
    {
     "data": {
      "text/html": [
       "<div>\n",
       "<style scoped>\n",
       "    .dataframe tbody tr th:only-of-type {\n",
       "        vertical-align: middle;\n",
       "    }\n",
       "\n",
       "    .dataframe tbody tr th {\n",
       "        vertical-align: top;\n",
       "    }\n",
       "\n",
       "    .dataframe thead th {\n",
       "        text-align: right;\n",
       "    }\n",
       "</style>\n",
       "<table border=\"1\" class=\"dataframe\">\n",
       "  <thead>\n",
       "    <tr style=\"text-align: right;\">\n",
       "      <th></th>\n",
       "      <th>city</th>\n",
       "      <th>state</th>\n",
       "      <th>latitude</th>\n",
       "      <th>longitude</th>\n",
       "      <th>stars</th>\n",
       "      <th>review_count</th>\n",
       "      <th>is_open</th>\n",
       "      <th>categories</th>\n",
       "      <th>region</th>\n",
       "    </tr>\n",
       "  </thead>\n",
       "  <tbody>\n",
       "    <tr>\n",
       "      <th>64048</th>\n",
       "      <td>Portland</td>\n",
       "      <td>OR</td>\n",
       "      <td>45.522612</td>\n",
       "      <td>-122.673084</td>\n",
       "      <td>3.5</td>\n",
       "      <td>9185</td>\n",
       "      <td>1</td>\n",
       "      <td>Local Flavor, Food, Donuts, Wedding Chapels, E...</td>\n",
       "      <td>West</td>\n",
       "    </tr>\n",
       "    <tr>\n",
       "      <th>113608</th>\n",
       "      <td>Boston</td>\n",
       "      <td>MA</td>\n",
       "      <td>42.364181</td>\n",
       "      <td>-71.054218</td>\n",
       "      <td>4.0</td>\n",
       "      <td>7298</td>\n",
       "      <td>1</td>\n",
       "      <td>Candy Stores, Gelato, Food, Coffee &amp; Tea, Rest...</td>\n",
       "      <td>Northeast</td>\n",
       "    </tr>\n",
       "    <tr>\n",
       "      <th>42375</th>\n",
       "      <td>Portland</td>\n",
       "      <td>OR</td>\n",
       "      <td>45.523086</td>\n",
       "      <td>-122.641680</td>\n",
       "      <td>4.5</td>\n",
       "      <td>7219</td>\n",
       "      <td>1</td>\n",
       "      <td>Caterers, Restaurants, Breakfast &amp; Brunch, Sou...</td>\n",
       "      <td>West</td>\n",
       "    </tr>\n",
       "    <tr>\n",
       "      <th>25571</th>\n",
       "      <td>Portland</td>\n",
       "      <td>OR</td>\n",
       "      <td>45.504723</td>\n",
       "      <td>-122.632105</td>\n",
       "      <td>4.0</td>\n",
       "      <td>6221</td>\n",
       "      <td>0</td>\n",
       "      <td>Restaurants, Asian Fusion, Pan Asian, Thai, Fi...</td>\n",
       "      <td>West</td>\n",
       "    </tr>\n",
       "    <tr>\n",
       "      <th>145385</th>\n",
       "      <td>Boston</td>\n",
       "      <td>MA</td>\n",
       "      <td>42.363237</td>\n",
       "      <td>-71.055975</td>\n",
       "      <td>4.5</td>\n",
       "      <td>5115</td>\n",
       "      <td>1</td>\n",
       "      <td>Arabian, Thai, American (Traditional), Live/Ra...</td>\n",
       "      <td>Northeast</td>\n",
       "    </tr>\n",
       "    <tr>\n",
       "      <th>46678</th>\n",
       "      <td>Austin</td>\n",
       "      <td>TX</td>\n",
       "      <td>30.270135</td>\n",
       "      <td>-97.731295</td>\n",
       "      <td>4.5</td>\n",
       "      <td>4942</td>\n",
       "      <td>1</td>\n",
       "      <td>Local Flavor, Salad, Sandwiches, Restaurants, ...</td>\n",
       "      <td>South</td>\n",
       "    </tr>\n",
       "    <tr>\n",
       "      <th>24869</th>\n",
       "      <td>Austin</td>\n",
       "      <td>TX</td>\n",
       "      <td>30.263769</td>\n",
       "      <td>-97.738036</td>\n",
       "      <td>4.5</td>\n",
       "      <td>4833</td>\n",
       "      <td>1</td>\n",
       "      <td>Venues &amp; Event Spaces, American (Traditional),...</td>\n",
       "      <td>South</td>\n",
       "    </tr>\n",
       "    <tr>\n",
       "      <th>1850</th>\n",
       "      <td>Austin</td>\n",
       "      <td>TX</td>\n",
       "      <td>30.249649</td>\n",
       "      <td>-97.749907</td>\n",
       "      <td>4.0</td>\n",
       "      <td>4708</td>\n",
       "      <td>1</td>\n",
       "      <td>American (New), American (Traditional), Restau...</td>\n",
       "      <td>South</td>\n",
       "    </tr>\n",
       "    <tr>\n",
       "      <th>97776</th>\n",
       "      <td>Driftwood</td>\n",
       "      <td>TX</td>\n",
       "      <td>30.131736</td>\n",
       "      <td>-98.013335</td>\n",
       "      <td>4.0</td>\n",
       "      <td>4524</td>\n",
       "      <td>1</td>\n",
       "      <td>Food, Wineries, Restaurants, Arts &amp; Entertainm...</td>\n",
       "      <td>South</td>\n",
       "    </tr>\n",
       "    <tr>\n",
       "      <th>122853</th>\n",
       "      <td>Portland</td>\n",
       "      <td>OR</td>\n",
       "      <td>45.522196</td>\n",
       "      <td>-122.673868</td>\n",
       "      <td>4.5</td>\n",
       "      <td>4466</td>\n",
       "      <td>1</td>\n",
       "      <td>American (Traditional), Restaurants, Bars, Nig...</td>\n",
       "      <td>West</td>\n",
       "    </tr>\n",
       "    <tr>\n",
       "      <th>27556</th>\n",
       "      <td>Portland</td>\n",
       "      <td>OR</td>\n",
       "      <td>45.523097</td>\n",
       "      <td>-122.681325</td>\n",
       "      <td>5.0</td>\n",
       "      <td>4295</td>\n",
       "      <td>1</td>\n",
       "      <td>Food, Airports, Bookstores, Flowers &amp; Gifts, C...</td>\n",
       "      <td>West</td>\n",
       "    </tr>\n",
       "    <tr>\n",
       "      <th>6289</th>\n",
       "      <td>Portland</td>\n",
       "      <td>OR</td>\n",
       "      <td>45.520717</td>\n",
       "      <td>-122.683874</td>\n",
       "      <td>4.0</td>\n",
       "      <td>4011</td>\n",
       "      <td>0</td>\n",
       "      <td>Coffee &amp; Tea, Bakeries, Restaurants, Food, Don...</td>\n",
       "      <td>West</td>\n",
       "    </tr>\n",
       "    <tr>\n",
       "      <th>18913</th>\n",
       "      <td>Atlanta</td>\n",
       "      <td>GA</td>\n",
       "      <td>33.640723</td>\n",
       "      <td>-84.427636</td>\n",
       "      <td>3.5</td>\n",
       "      <td>3948</td>\n",
       "      <td>1</td>\n",
       "      <td>Discount Store, Hotels &amp; Travel, Shopping, Air...</td>\n",
       "      <td>South</td>\n",
       "    </tr>\n",
       "  </tbody>\n",
       "</table>\n",
       "</div>"
      ],
      "text/plain": [
       "             city state   latitude   longitude  stars  review_count  is_open  \\\n",
       "64048    Portland    OR  45.522612 -122.673084    3.5          9185        1   \n",
       "113608     Boston    MA  42.364181  -71.054218    4.0          7298        1   \n",
       "42375    Portland    OR  45.523086 -122.641680    4.5          7219        1   \n",
       "25571    Portland    OR  45.504723 -122.632105    4.0          6221        0   \n",
       "145385     Boston    MA  42.363237  -71.055975    4.5          5115        1   \n",
       "46678      Austin    TX  30.270135  -97.731295    4.5          4942        1   \n",
       "24869      Austin    TX  30.263769  -97.738036    4.5          4833        1   \n",
       "1850       Austin    TX  30.249649  -97.749907    4.0          4708        1   \n",
       "97776   Driftwood    TX  30.131736  -98.013335    4.0          4524        1   \n",
       "122853   Portland    OR  45.522196 -122.673868    4.5          4466        1   \n",
       "27556    Portland    OR  45.523097 -122.681325    5.0          4295        1   \n",
       "6289     Portland    OR  45.520717 -122.683874    4.0          4011        0   \n",
       "18913     Atlanta    GA  33.640723  -84.427636    3.5          3948        1   \n",
       "\n",
       "                                               categories     region  \n",
       "64048   Local Flavor, Food, Donuts, Wedding Chapels, E...       West  \n",
       "113608  Candy Stores, Gelato, Food, Coffee & Tea, Rest...  Northeast  \n",
       "42375   Caterers, Restaurants, Breakfast & Brunch, Sou...       West  \n",
       "25571   Restaurants, Asian Fusion, Pan Asian, Thai, Fi...       West  \n",
       "145385  Arabian, Thai, American (Traditional), Live/Ra...  Northeast  \n",
       "46678   Local Flavor, Salad, Sandwiches, Restaurants, ...      South  \n",
       "24869   Venues & Event Spaces, American (Traditional),...      South  \n",
       "1850    American (New), American (Traditional), Restau...      South  \n",
       "97776   Food, Wineries, Restaurants, Arts & Entertainm...      South  \n",
       "122853  American (Traditional), Restaurants, Bars, Nig...       West  \n",
       "27556   Food, Airports, Bookstores, Flowers & Gifts, C...       West  \n",
       "6289    Coffee & Tea, Bakeries, Restaurants, Food, Don...       West  \n",
       "18913   Discount Store, Hotels & Travel, Shopping, Air...      South  "
      ]
     },
     "execution_count": 29,
     "metadata": {},
     "output_type": "execute_result"
    }
   ],
   "source": [
    "top.sort_values(by=['review_count'], ascending=False)"
   ]
  },
  {
   "cell_type": "code",
   "execution_count": 35,
   "metadata": {},
   "outputs": [
    {
     "data": {
      "text/plain": [
       "business_id                                4CxF8c3MB7VAdY8zFb2cZQ\n",
       "name                                   Voodoo Doughnut - Old Town\n",
       "address                                             22 SW 3rd Ave\n",
       "city                                                     Portland\n",
       "state                                                          OR\n",
       "postal_code                                                 97204\n",
       "latitude                                                  45.5226\n",
       "longitude                                                -122.673\n",
       "stars                                                         3.5\n",
       "review_count                                                 9185\n",
       "is_open                                                         1\n",
       "attributes      {'RestaurantsPriceRange2': '1', 'BikeParking':...\n",
       "categories      Local Flavor, Food, Donuts, Wedding Chapels, E...\n",
       "hours           {'Monday': '0:0-0:0', 'Tuesday': '8:0-21:0', '...\n",
       "region                                                       West\n",
       "Name: 64048, dtype: object"
      ]
     },
     "execution_count": 35,
     "metadata": {},
     "output_type": "execute_result"
    }
   ],
   "source": [
    "df1.loc[64048]"
   ]
  },
  {
   "cell_type": "code",
   "execution_count": null,
   "metadata": {},
   "outputs": [],
   "source": [
    "bottom_percentile = np.percentile(df['review_count'].unique(), 1) # 2th percentile"
   ]
  },
  {
   "cell_type": "code",
   "execution_count": null,
   "metadata": {},
   "outputs": [],
   "source": [
    "bottom_percentile"
   ]
  },
  {
   "cell_type": "code",
   "execution_count": null,
   "metadata": {},
   "outputs": [],
   "source": [
    "df[df.review_count < bottom_percentile]"
   ]
  },
  {
   "cell_type": "code",
   "execution_count": null,
   "metadata": {},
   "outputs": [],
   "source": [
    "cat_series = pd.Series(dict(df['categories'].value_counts()))"
   ]
  },
  {
   "cell_type": "code",
   "execution_count": null,
   "metadata": {},
   "outputs": [],
   "source": [
    "cat_series"
   ]
  },
  {
   "cell_type": "code",
   "execution_count": null,
   "metadata": {},
   "outputs": [],
   "source": [
    "def plot_feature(df, col):\n",
    "    '''\n",
    "    Make plot for each features\n",
    "    left, the distribution of samples on the feature\n",
    "    right, the dependance of review_count on the feature\n",
    "    '''\n",
    "    plt.figure(figsize = (14, 6))\n",
    "    plt.subplot(1, 2, 1)\n",
    "    if df[col].dtype == 'int64':\n",
    "        df[col].value_counts().sort_index().plot()\n",
    "    else:\n",
    "        #change the categorical variable to category type and order their level by the mean salary\n",
    "        #in each category\n",
    "        mean = df.groupby(col)['review_count'].mean()\n",
    "        df[col] = df[col].astype('category')\n",
    "        levels = mean.sort_values().index.tolist()\n",
    "        df[col].cat.reorder_categories(levels, inplace=True)\n",
    "        df[col].value_counts().plot()\n",
    "    plt.xticks(rotation=45)\n",
    "    plt.xlabel(col)\n",
    "    plt.ylabel('Counts')\n",
    "    plt.subplot(1, 2, 2)\n",
    "\n",
    "    if df[col].dtype == 'int64' or col == 'companyId':\n",
    "        #plot the mean review_count for each category and fill between the (mean - std, mean + std)\n",
    "        mean = df.groupby(col)['review_count'].mean()\n",
    "        std = df.groupby(col)['review_count'].std()\n",
    "        mean.plot()\n",
    "        plt.fill_between(range(len(std.index)), mean.values-std.values, mean.values + std.values, \\\n",
    "                         alpha = 0.1)\n",
    "    else:\n",
    "        sns.boxplot(x = col, y = 'review_count', data=df)\n",
    "    \n",
    "    plt.xticks(rotation=45)\n",
    "    plt.ylabel('review_count')\n",
    "    plt.show()"
   ]
  },
  {
   "cell_type": "code",
   "execution_count": null,
   "metadata": {},
   "outputs": [],
   "source": [
    "plot_feature(df, 'stars')"
   ]
  },
  {
   "cell_type": "code",
   "execution_count": null,
   "metadata": {},
   "outputs": [],
   "source": [
    "plot_feature(df, 'region')"
   ]
  },
  {
   "cell_type": "code",
   "execution_count": null,
   "metadata": {},
   "outputs": [],
   "source": []
  }
 ],
 "metadata": {
  "kernelspec": {
   "display_name": "Python 3",
   "language": "python",
   "name": "python3"
  },
  "language_info": {
   "codemirror_mode": {
    "name": "ipython",
    "version": 3
   },
   "file_extension": ".py",
   "mimetype": "text/x-python",
   "name": "python",
   "nbconvert_exporter": "python",
   "pygments_lexer": "ipython3",
   "version": "3.8.5"
  }
 },
 "nbformat": 4,
 "nbformat_minor": 4
}
